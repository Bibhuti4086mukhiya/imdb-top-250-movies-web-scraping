{
 "cells": [
  {
   "cell_type": "code",
   "execution_count": 61,
   "id": "6fe1703b",
   "metadata": {},
   "outputs": [],
   "source": [
    "from bs4 import BeautifulSoup \n",
    "import requests,openpyxl"
   ]
  },
  {
   "cell_type": "code",
   "execution_count": 62,
   "id": "3d03bf2c",
   "metadata": {},
   "outputs": [],
   "source": [
    "url='https://m.imdb.com/chart/top/'\n",
    "\n",
    "excel=openpyxl.Workbook()\n",
    "# print(excel.sheetnames)\n",
    "sheet=excel.active\n",
    "sheet.title='Top Rated Movies'\n",
    "# print(excel.sheetnames)\n",
    "\n",
    "sheet.append(['Movie Rank','Movie Name','Year of Release','IMDB Rating'])\n",
    "\n",
    "try:\n",
    "    source=requests.get(url)\n",
    "    source.raise_for_status()\n",
    "    soup=BeautifulSoup(source.text,'html.parser')\n",
    "    movies=soup.find_all('div',class_='media')\n",
    "    \n",
    "    for movie in movies:\n",
    "        rating=movie.find('span',class_='imdb-rating').text\n",
    "        \n",
    "        ranks=movie.find('h4').get_text(strip=True)\n",
    "        rank=''\n",
    "        for i in ranks:\n",
    "            if i==\".\":\n",
    "                break\n",
    "            rank+=str(i)\n",
    "            \n",
    "        name=movie.find('h4').get_text(strip=True).split('.')\n",
    "        name=name[1].split('(')[0]\n",
    "        \n",
    "        year=movie.find('h4').get_text(strip=True).split('(')\n",
    "        year=year[1]\n",
    "        year=year[:-1]\n",
    "\n",
    "\n",
    "#         print(rank,name,year,rating)\n",
    "        sheet.append([rank,name,year,rating])\n",
    "        \n",
    "except Exception as e:\n",
    "    print(e)\n",
    "\n",
    "excel.save('IMDB Movie Rating.xlsx')\n"
   ]
  },
  {
   "cell_type": "code",
   "execution_count": null,
   "id": "4e6fc8fd",
   "metadata": {},
   "outputs": [],
   "source": []
  }
 ],
 "metadata": {
  "kernelspec": {
   "display_name": "Python 3 (ipykernel)",
   "language": "python",
   "name": "python3"
  },
  "language_info": {
   "codemirror_mode": {
    "name": "ipython",
    "version": 3
   },
   "file_extension": ".py",
   "mimetype": "text/x-python",
   "name": "python",
   "nbconvert_exporter": "python",
   "pygments_lexer": "ipython3",
   "version": "3.9.12"
  }
 },
 "nbformat": 4,
 "nbformat_minor": 5
}
