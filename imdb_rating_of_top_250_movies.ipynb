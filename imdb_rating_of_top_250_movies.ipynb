{
 "cells": [
  {
   "cell_type": "code",
   "execution_count": 9,
   "id": "6fe1703b",
   "metadata": {},
   "outputs": [],
   "source": [
    "from bs4 import BeautifulSoup \n",
    "import requests "
   ]
  },
  {
   "cell_type": "code",
   "execution_count": 52,
   "id": "3d03bf2c",
   "metadata": {},
   "outputs": [
    {
     "name": "stdout",
     "output_type": "stream",
     "text": [
      "1.The Shawshank Redemption(1994)\n"
     ]
    }
   ],
   "source": [
    "movies_name=[]\n",
    "year_of_release=[]\n",
    "imdb_rating=[]\n",
    "link_of_movies=[]\n",
    "\n",
    "url='https://m.imdb.com/chart/top/'\n",
    "\n",
    "try:\n",
    "    source=requests.get(url)\n",
    "    source.raise_for_status()\n",
    "    soup=BeautifulSoup(source.text,'html.parser')\n",
    "    movies=soup.find('section',id='chart-content')\n",
    "    \n",
    "    rank=movies.find('h4').get_text(strip=True)\n",
    "    f\n",
    "#     print(movies)\n",
    "#     print(len(movies))\n",
    "#     for movie in movies:\n",
    "#         rating=movie.find('span',class_='imdb-rating').text\n",
    "#         print(rating)\n",
    "    \n",
    "#     rank=movies.find('h4').get_text(strip=True).split('.')\n",
    "#     ranks=movies.find('h4').get_text(strip=True).split('.')[0]\n",
    "    \n",
    "#     name=rank[1].split('(')[0]\n",
    "    \n",
    "    \n",
    "#     year=rank[1].split(\"(\")[1]\n",
    "#     year=year[:-1]\n",
    "   \n",
    "    \n",
    "    \n",
    "    \n",
    "#     print(ranks,name,year,rating)\n",
    "    \n",
    "   \n",
    "    \n",
    "    \n",
    "    \n",
    "except Exception as e:\n",
    "    print(e)\n",
    "\n"
   ]
  },
  {
   "cell_type": "code",
   "execution_count": 49,
   "id": "4e6fc8fd",
   "metadata": {},
   "outputs": [
    {
     "ename": "AttributeError",
     "evalue": "'int' object has no attribute 'get_text'",
     "output_type": "error",
     "traceback": [
      "\u001b[1;31m---------------------------------------------------------------------------\u001b[0m",
      "\u001b[1;31mAttributeError\u001b[0m                            Traceback (most recent call last)",
      "Input \u001b[1;32mIn [49]\u001b[0m, in \u001b[0;36m<cell line: 1>\u001b[1;34m()\u001b[0m\n\u001b[1;32m----> 1\u001b[0m rank\u001b[38;5;241m=\u001b[39m\u001b[43mmovie\u001b[49m\u001b[38;5;241;43m.\u001b[39;49m\u001b[43mfind\u001b[49m\u001b[43m(\u001b[49m\u001b[38;5;124;43m'\u001b[39;49m\u001b[38;5;124;43mh4\u001b[39;49m\u001b[38;5;124;43m'\u001b[39;49m\u001b[43m)\u001b[49m\u001b[38;5;241;43m.\u001b[39;49m\u001b[43mget_text\u001b[49m(strip\u001b[38;5;241m=\u001b[39m\u001b[38;5;28;01mTrue\u001b[39;00m)\u001b[38;5;241m.\u001b[39msplit(\u001b[38;5;124m'\u001b[39m\u001b[38;5;124m.\u001b[39m\u001b[38;5;124m'\u001b[39m)\n",
      "\u001b[1;31mAttributeError\u001b[0m: 'int' object has no attribute 'get_text'"
     ]
    }
   ],
   "source": []
  }
 ],
 "metadata": {
  "kernelspec": {
   "display_name": "Python 3 (ipykernel)",
   "language": "python",
   "name": "python3"
  },
  "language_info": {
   "codemirror_mode": {
    "name": "ipython",
    "version": 3
   },
   "file_extension": ".py",
   "mimetype": "text/x-python",
   "name": "python",
   "nbconvert_exporter": "python",
   "pygments_lexer": "ipython3",
   "version": "3.9.12"
  }
 },
 "nbformat": 4,
 "nbformat_minor": 5
}
